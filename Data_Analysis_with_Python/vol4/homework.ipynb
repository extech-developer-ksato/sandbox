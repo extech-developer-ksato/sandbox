{
 "cells": [
  {
   "cell_type": "markdown",
   "metadata": {},
   "source": [
    "### 第4回までの宿題\n",
    "#### 【扱うライブラリ】\n",
    "Pandas, Numpy, Matplotlib, Seaborn\n",
    "#### 【やること】\n",
    "下記のオープンデータを用いて、それぞれどのようなデータなのかを自分なりに理解する。  \n",
    "そして、そのデータがどういうデータなのか、例えば可視化などをすることで直感的に第三者に伝えれるようにする。  \n",
    "  \n",
    "・データを取得してくる\n",
    "・データを読み込む  \n",
    "・データの列名のみや行数のみを表示して確認する  \n",
    "・ユニークなデータ(重複を削除)は何かを確認する  \n",
    "・数値データなのか、文字列データなのか、文字列データでカテゴリデータならば数値に置き換えられないかを確認する  \n",
    "・データ全体の統計量(sum, mean, var, ...etc)を確認する  \n",
    "・データの１つ１つの変数について、または複数の変数について分布を可視化してみる(箱ひげ, チャート, ...etc)   \n",
    "  \n",
    "#### 【データセット】\n",
    "Seabornのデータセットから  \n",
    "**1. [tips](https://github.com/mwaskom/seaborn-data)**  \n",
    "**2. [titanic](https://github.com/mwaskom/seaborn-data)**  \n",
    "**3. [planet](https://github.com/mwaskom/seaborn-data)**  \n",
    "**4. [penguins](https://github.com/mwaskom/seaborn-data)**  \n",
    "**5. [fmri](https://github.com/mwaskom/seaborn-data)**  \n",
    "  \n",
    "R データセットから  \n",
    "**1. [CASchools](https://vincentarelbundock.github.io/Rdatasets/csv/AER/CASchools.csv)**  \n",
    "**2. [CreditCard](https://vincentarelbundock.github.io/Rdatasets/csv/AER/CreditCard.csv)**  \n",
    "**3. [Forbes2000](https://vincentarelbundock.github.io/Rdatasets/csv/HSAUR/Forbes2000.csv)**  \n",
    "  \n",
    "Seabornは直接読み込める一方で、R datasetsは手元に一度ダウンロードしてからデータを読み込む必要がある  \n",
    "これら８つのデータセットをもとに宿題に取り組んでみましょう...！"
   ]
  }
 ],
 "metadata": {
  "kernelspec": {
   "display_name": "Python 3",
   "language": "python",
   "name": "python3"
  },
  "language_info": {
   "codemirror_mode": {
    "name": "ipython",
    "version": 3
   },
   "file_extension": ".py",
   "mimetype": "text/x-python",
   "name": "python",
   "nbconvert_exporter": "python",
   "pygments_lexer": "ipython3",
   "version": "3.7.4"
  }
 },
 "nbformat": 4,
 "nbformat_minor": 4
}
